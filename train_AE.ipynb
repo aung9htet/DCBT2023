{
 "cells": [
  {
   "cell_type": "code",
   "execution_count": 1,
   "id": "288c5b61-084a-4e75-b37e-8b8b3f55f8c3",
   "metadata": {},
   "outputs": [
    {
     "name": "stdout",
     "output_type": "stream",
     "text": [
      "hpc imported\n",
      "ANNarchy 4.7 (4.7.2.6) on linux (posix).\n",
      "bg imported\n",
      "camphoto imported\n",
      "miro states\n"
     ]
    }
   ],
   "source": [
    "%matplotlib inline\n",
    "import numpy as np\n",
    "import matplotlib.pyplot as plt\n",
    "from Agent import *"
   ]
  },
  {
   "cell_type": "code",
   "execution_count": null,
   "id": "99f7bebc-ebf4-45e8-a9c0-e4931399eb0b",
   "metadata": {},
   "outputs": [],
   "source": [
    "agent = Agent()"
   ]
  },
  {
   "cell_type": "code",
   "execution_count": null,
   "id": "9f081134-6dd7-401a-b5b9-05334599d3ad",
   "metadata": {},
   "outputs": [],
   "source": [
    "while True:\n",
    "    agent.step()"
   ]
  },
  {
   "cell_type": "code",
   "execution_count": null,
   "id": "88e329d5-97f0-4c70-9c6a-64651e0dca08",
   "metadata": {},
   "outputs": [],
   "source": []
  },
  {
   "cell_type": "code",
   "execution_count": null,
   "id": "62ac163f-ad45-4dc9-9dba-b04895634bef",
   "metadata": {},
   "outputs": [],
   "source": []
  }
 ],
 "metadata": {
  "kernelspec": {
   "display_name": "Python 3 (ipykernel)",
   "language": "python",
   "name": "python3"
  },
  "language_info": {
   "codemirror_mode": {
    "name": "ipython",
    "version": 3
   },
   "file_extension": ".py",
   "mimetype": "text/x-python",
   "name": "python",
   "nbconvert_exporter": "python",
   "pygments_lexer": "ipython3",
   "version": "3.8.10"
  }
 },
 "nbformat": 4,
 "nbformat_minor": 5
}
